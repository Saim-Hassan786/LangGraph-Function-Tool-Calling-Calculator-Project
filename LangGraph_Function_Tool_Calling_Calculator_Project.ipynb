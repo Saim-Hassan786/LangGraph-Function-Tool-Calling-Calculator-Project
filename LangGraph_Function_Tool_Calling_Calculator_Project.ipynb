{
  "nbformat": 4,
  "nbformat_minor": 0,
  "metadata": {
    "colab": {
      "provenance": [],
      "authorship_tag": "ABX9TyPOD3yALnDyC3wImvtBlzND",
      "include_colab_link": true
    },
    "kernelspec": {
      "name": "python3",
      "display_name": "Python 3"
    },
    "language_info": {
      "name": "python"
    }
  },
  "cells": [
    {
      "cell_type": "markdown",
      "metadata": {
        "id": "view-in-github",
        "colab_type": "text"
      },
      "source": [
        "<a href=\"https://colab.research.google.com/github/Saim-Hassan786/LangGraph-Function-Tool-Calling-Calculator-Project/blob/main/LangGraph_Function_Tool_Calling_Calculator_Project.ipynb\" target=\"_parent\"><img src=\"https://colab.research.google.com/assets/colab-badge.svg\" alt=\"Open In Colab\"/></a>"
      ]
    },
    {
      "cell_type": "markdown",
      "source": [
        "The provided code installs the necessary libraries: `langchain-google-genai`, `langchain`, and `langgraph`, which are crucial for integrating Google’s Gemini AI model, handling language chains, and managing graph-based workflows. The `langchain-google-genai` package provides tools to interface with Google's generative AI models, while `langchain` helps build complex pipelines and chains for NLP tasks. The `langgraph` library is used for graph-based logic, enabling the creation of decision-making workflows and integrating various tools within the process. Together, these libraries allow you to build and execute sophisticated AI-driven workflows, combining natural language processing with custom tool interactions. The `pip install -q -U` commands ensure that the libraries are installed or updated to their latest versions."
      ],
      "metadata": {
        "id": "mF9JrCoG824P"
      }
    },
    {
      "cell_type": "code",
      "execution_count": null,
      "metadata": {
        "id": "h1hVB2V3YMVQ"
      },
      "outputs": [],
      "source": [
        "!pip install -q -U langchain-google-genai\n",
        "!pip install -q -U langchain\n",
        "!pip install -q -U  langgraph\n",
        "!pip install -q -U langchain_community\n",
        "!pip install -q -U tavily_python"
      ]
    },
    {
      "cell_type": "code",
      "source": [
        "from google.colab import userdata\n",
        "import os\n",
        "\n",
        "os.environ[\"TAVILY_API_KEY\"] = userdata.get('TAVILY_API_KEY')"
      ],
      "metadata": {
        "id": "kdGD3c3xySzK"
      },
      "execution_count": null,
      "outputs": []
    },
    {
      "cell_type": "code",
      "source": [
        "from google.colab import userdata\n",
        "os.environ[\"GOOGLE_API_KEY\"] = userdata.get('GOOGLE_API_KEY')"
      ],
      "metadata": {
        "id": "vXG1oGmaZAFT"
      },
      "execution_count": null,
      "outputs": []
    },
    {
      "cell_type": "code",
      "source": [
        "from langgraph.graph import StateGraph , START, END, MessagesState\n",
        "from langchain_core.messages import AIMessage,SystemMessage,HumanMessage\n",
        "from langgraph.prebuilt import ToolNode,tools_condition\n",
        "from langgraph.graph.state import CompiledStateGraph\n",
        "from langchain.tools import Tool\n",
        "from langchain_core.tools import tool"
      ],
      "metadata": {
        "id": "ElgLUuwXcrWG"
      },
      "execution_count": null,
      "outputs": []
    },
    {
      "cell_type": "markdown",
      "source": [
        "The code initializes a connection to Google's Gemini AI model using the `langchain_google_genai` library. The `ChatGoogleGenerativeAI` class is used to create an instance of the AI model, specifying the model version (`gemini-2.0-flash-exp`) and an API key stored in the environment variable `GOOGLE_API_KEY` for authentication. The `temperature` parameter is set to 0.5, which controls the randomness of the AI's responses, where lower values make the model more deterministic. This setup allows you to interact with the Gemini AI model for generating natural language responses. The code ensures the model can be queried with specific configurations for tasks requiring generative AI capabilities."
      ],
      "metadata": {
        "id": "0NL3GrI28-0Z"
      }
    },
    {
      "cell_type": "code",
      "source": [
        "from langchain_google_genai import ChatGoogleGenerativeAI\n",
        "llm = ChatGoogleGenerativeAI(\n",
        "    model=\"gemini-2.0-flash-exp\",\n",
        "    api_key=os.environ[\"GOOGLE_API_KEY\"],\n",
        "    temperature=0.5\n",
        ")"
      ],
      "metadata": {
        "id": "TtBhik_TaS-x"
      },
      "execution_count": null,
      "outputs": []
    },
    {
      "cell_type": "markdown",
      "source": [
        "# Defining Simple Functions of Addition, Subtraction, Multiplication, Division"
      ],
      "metadata": {
        "id": "CTI2vqiX9BwK"
      }
    },
    {
      "cell_type": "code",
      "source": [
        "@tool\n",
        "def add(a:int,b:int)->int:\n",
        "  \"\"\"\n",
        "  This function is used to Add two number\n",
        "\n",
        "  Args\n",
        "  a:int\n",
        "  b:int\n",
        "\n",
        "  return a+b\n",
        "  \"\"\"\n",
        "  return a+b\n",
        "\n",
        "@tool\n",
        "def subtract(a:int,b:int)->int:\n",
        "  \"\"\"\n",
        "  This function is used to subtract two numbers\n",
        "\n",
        "  Agrs\n",
        "  a:int\n",
        "  b:int\n",
        "\n",
        "  return a-b\n",
        "  \"\"\"\n",
        "  return a-b\n",
        "\n",
        "@tool\n",
        "def multiply(a:int,b:int)->int:\n",
        "  \"\"\"\n",
        "  This function is used to multiply two numbers\n",
        "\n",
        "  Args\n",
        "  a:int\n",
        "  b:int\n",
        "\n",
        "  return a*b\n",
        "  \"\"\"\n",
        "  return a*b\n",
        "\n",
        "@tool\n",
        "def divide(a:int,b:int)->int:\n",
        "  \"\"\"\n",
        "  This function is used to divide two numbers\n",
        "\n",
        "  Args\n",
        "  a:int\n",
        "  b:int\n",
        "\n",
        "  return a/b\n",
        "  \"\"\"\n",
        "  return a/b"
      ],
      "metadata": {
        "id": "GIbx6qwzao3q"
      },
      "execution_count": null,
      "outputs": []
    },
    {
      "cell_type": "code",
      "source": [
        "from langchain_community.tools.tavily_search import TavilySearchResults\n",
        "from typing import Any, Dict\n",
        "\n",
        "@tool\n",
        "def tavily_search_result(query) -> Dict[str, Any]:\n",
        "  \"\"\"\n",
        "  Use the TavilySearchTool to perform a web search and return relevant results.\n",
        "\n",
        "    This function takes a user query and utilizes the TavilySearchTool to search the web\n",
        "    for relevant information. The function is designed to handle queries where the user\n",
        "    is seeking information available on the internet. It returns a limited number of results\n",
        "    from the web based on the provided query.\n",
        "\n",
        "    Parameters:\n",
        "    query (str): The search query input by the user. This could be any string that represents\n",
        "                 the user's information need.\n",
        "\n",
        "    Returns:\n",
        "    list: A list of search results relevant to the query. The results are returned as a\n",
        "          collection of URLs or snippets from the web, limited to a predefined number\n",
        "          (e.g., 2 results).\n",
        "\n",
        "  \"\"\"\n",
        "  tavily_search = TavilySearchResults(max_results=2)\n",
        "  return tavily_search.run(query)"
      ],
      "metadata": {
        "id": "Lez0visIy4FF"
      },
      "execution_count": null,
      "outputs": []
    },
    {
      "cell_type": "markdown",
      "source": [
        "The code creates a list called `tools`, which contains four functions: `add`, `subtract`, `multiply`,`divide` and **tavily_search as well**, each performing basic arithmetic operations. The `llm.bind_tools(tools)` method binds these tools to the previously initialized language model (`llm`). This allows the AI model to use these tools for performing mathematical operations when invoked, integrating external functionality with the generative AI model. The result is that the model can respond to queries that involve calculations by leveraging the specified tools. This setup enhances the AI's capabilities by enabling it to handle both natural language processing and mathematical tasks seamlessly."
      ],
      "metadata": {
        "id": "4ulUg5bW9VAh"
      }
    },
    {
      "cell_type": "code",
      "source": [
        "# tools = [\n",
        "#     Tool(name=\"addition\", func=add, description=\"This tool is used to add two numbers. Input should be in the format 'a b' where a and b are the numbers to be added.\"),\n",
        "#     Tool(name=\"subtraction\", func=subtract, description=\"This tool is used to subtract two numbers. Input should be in the format 'a b' where a and b are the numbers to be subtracted.\"),\n",
        "#     Tool(name=\"multiplication\", func=multiply, description=\"This tool is used to multiply two numbers. Input should be in the format 'a b' where a and b are the numbers to be multiplied.\"),\n",
        "#     Tool(name=\"division\", func=divide, description=\"This tool is used to divide two numbers. Input should be in the format 'a b' where a and b are the numbers to be divided.\"),\n",
        "#     Tool(name=\"tavily_search\", func=tavily_search_result, description=\"This tool is used to search the web using Tavily. Input should be a search query.\")\n",
        "# ]\n",
        "# llm_with_tools = llm.bind_tools(tools)"
      ],
      "metadata": {
        "id": "zRHy-fjfcgh5"
      },
      "execution_count": null,
      "outputs": []
    },
    {
      "cell_type": "code",
      "source": [
        "tools_1 = [add,subtract,multiply,divide]\n",
        "tools_2 = [Tool(name=\"tavily_search\", func=tavily_search_result, description=\"This tool is used to search the web using Tavily. Input should be a search query.\")]\n",
        "\n",
        "tool_all = tools_1 + tools_2\n",
        "\n",
        "llm_with_tools = llm.bind_tools(tool_all)"
      ],
      "metadata": {
        "id": "K8yP53KyLzJq"
      },
      "execution_count": null,
      "outputs": []
    },
    {
      "cell_type": "markdown",
      "source": [
        "The code imports necessary components from the `langgraph` and `langchain_core` libraries to build and manage a state-based workflow for AI interactions. `StateGraph` is used to define a directed graph that represents the flow of states in the system, with `START` and `END` as the key entry and exit points. The `MessagesState` class handles the structure for storing messages exchanged during the interaction. `ToolNode` and `tools_condition` are prebuilt utilities for integrating external tools into the state graph and defining conditions for triggering tool-based actions. Finally, the `CompiledStateGraph` class compiles the graph into a runnable structure, allowing for dynamic decision-making and tool invocation based on state transitions."
      ],
      "metadata": {
        "id": "cUU5LLM79cZo"
      }
    },
    {
      "cell_type": "markdown",
      "source": [
        "The function `llm_with_tools_power` takes in a `MessagesState` object, which contains the state of the conversation or interaction. It accesses the messages in the state by using `state[\"messages\"]`. The function then invokes the `llm_with_tools` object, which has been bound to perform specific tool-based actions, passing the messages as input to it. The result of invoking the tools is wrapped in a dictionary with the key `\"messages\"`, which represents the updated conversation state. This allows the system to process the input messages, apply tool-based logic, and return the modified messages as the output of the function."
      ],
      "metadata": {
        "id": "2j5uWEB89ejy"
      }
    },
    {
      "cell_type": "code",
      "source": [
        "def llm_with_tools_power(state:MessagesState)->MessagesState:\n",
        "  response = llm_with_tools.invoke(state[\"messages\"])\n",
        "  return {\"messages\":[response]}"
      ],
      "metadata": {
        "id": "bSvW9RLPii6c"
      },
      "execution_count": null,
      "outputs": []
    },
    {
      "cell_type": "markdown",
      "source": [
        "The code defines a state graph using a builder pattern, where nodes represent different states and edges define the transitions between them. It adds two nodes: \"llm_with_tool_power\" associated with a state and action (llm_with_tools_power) and \"tools\" linked to a set of tools (ToolNode). Conditional edges are created between these nodes based on a condition (\"tools_condition\"). The edges define the flow between the nodes, with one starting from the initial state (START) and another allowing for a return from \"tools\" to \"llm_with_tool_power.\" Finally, the graph is compiled into a \"CompiledStateGraph\" instance for execution."
      ],
      "metadata": {
        "id": "WUORbVu49zbB"
      }
    },
    {
      "cell_type": "code",
      "source": [
        "builder = StateGraph(state_schema=MessagesState)\n",
        "\n",
        "builder.add_node(\"llm_with_tool_power\",llm_with_tools_power)\n",
        "builder.add_node(\"tools\",ToolNode(tool_all))\n",
        "\n",
        "builder.add_edge(START,\"llm_with_tool_power\")\n",
        "builder.add_conditional_edges(\"llm_with_tool_power\",tools_condition)\n",
        "builder.add_edge(\"tools\",\"llm_with_tool_power\")\n",
        "\n",
        "graph : CompiledStateGraph = builder.compile()"
      ],
      "metadata": {
        "id": "290Kmppqligw"
      },
      "execution_count": null,
      "outputs": []
    },
    {
      "cell_type": "code",
      "source": [
        "from IPython.display import display, Markdown, Image\n",
        "display(Image(graph.get_graph().draw_mermaid_png()))"
      ],
      "metadata": {
        "colab": {
          "base_uri": "https://localhost:8080/",
          "height": 266
        },
        "id": "jQVapwuJmr0S",
        "outputId": "be0e7f6a-8178-415b-a929-2c3f6d55f44d"
      },
      "execution_count": null,
      "outputs": [
        {
          "output_type": "display_data",
          "data": {
            "image/png": "[encoded data removed]",
            "text/plain": [
              "<IPython.core.display.Image object>"
            ]
          },
          "metadata": {}
        }
      ]
    },
    {
      "cell_type": "markdown",
      "source": [
        "# Below are the responses from the above graph created"
      ],
      "metadata": {
        "id": "fsma22J994UW"
      }
    },
    {
      "cell_type": "code",
      "source": [
        "response_1 = graph.invoke({\"messages\":[HumanMessage(content=\"Add 2 + 3\")]})\n",
        "for r in response_1[\"messages\"]:\n",
        "  r.pretty_print()"
      ],
      "metadata": {
        "colab": {
          "base_uri": "https://localhost:8080/"
        },
        "id": "qNcs6mwOqIop",
        "outputId": "4667a187-c056-4f4d-d42f-0f55a9aea201"
      },
      "execution_count": null,
      "outputs": [
        {
          "output_type": "stream",
          "name": "stdout",
          "text": [
            "================================\u001b[1m Human Message \u001b[0m=================================\n",
            "\n",
            "Add 2 + 3\n",
            "==================================\u001b[1m Ai Message \u001b[0m==================================\n",
            "Tool Calls:\n",
            "  add (8e8d7425-bc0a-4e79-a6e5-a6cd47072f12)\n",
            " Call ID: 8e8d7425-bc0a-4e79-a6e5-a6cd47072f12\n",
            "  Args:\n",
            "    a: 2.0\n",
            "    b: 3.0\n",
            "=================================\u001b[1m Tool Message \u001b[0m=================================\n",
            "Name: add\n",
            "\n",
            "5\n",
            "==================================\u001b[1m Ai Message \u001b[0m==================================\n",
            "\n",
            "The sum of 2 and 3 is 5.\n"
          ]
        }
      ]
    },
    {
      "cell_type": "code",
      "source": [
        "response_2 = graph.invoke({\"messages\":[HumanMessage(content=\"Subtract 20 and 10\")]})\n",
        "for r in response_2[\"messages\"]:\n",
        "  r.pretty_print()"
      ],
      "metadata": {
        "colab": {
          "base_uri": "https://localhost:8080/"
        },
        "id": "WSZlmsgNu0Cz",
        "outputId": "1e1c7d31-a608-452c-a55b-b18a210452b0"
      },
      "execution_count": null,
      "outputs": [
        {
          "output_type": "stream",
          "name": "stdout",
          "text": [
            "================================\u001b[1m Human Message \u001b[0m=================================\n",
            "\n",
            "Subtract 20 and 10\n",
            "==================================\u001b[1m Ai Message \u001b[0m==================================\n",
            "Tool Calls:\n",
            "  subtract (585bc660-fcd5-4068-9dd8-47c369ef74a9)\n",
            " Call ID: 585bc660-fcd5-4068-9dd8-47c369ef74a9\n",
            "  Args:\n",
            "    a: 20.0\n",
            "    b: 10.0\n",
            "=================================\u001b[1m Tool Message \u001b[0m=================================\n",
            "Name: subtract\n",
            "\n",
            "10\n",
            "==================================\u001b[1m Ai Message \u001b[0m==================================\n",
            "\n",
            "The result of subtracting 10 from 20 is 10.\n"
          ]
        }
      ]
    },
    {
      "cell_type": "code",
      "source": [
        "response_3 = graph.invoke({\"messages\":[HumanMessage(content=\"Multiply 5 by 15\")]})\n",
        "for r in response_3[\"messages\"]:\n",
        "  r.pretty_print()"
      ],
      "metadata": {
        "colab": {
          "base_uri": "https://localhost:8080/"
        },
        "id": "vja46Gyku-Gg",
        "outputId": "c72ac374-65ba-426e-b8a7-2f356fe46904"
      },
      "execution_count": null,
      "outputs": [
        {
          "output_type": "stream",
          "name": "stdout",
          "text": [
            "================================\u001b[1m Human Message \u001b[0m=================================\n",
            "\n",
            "Multiply 5 by 15\n",
            "==================================\u001b[1m Ai Message \u001b[0m==================================\n",
            "Tool Calls:\n",
            "  multiply (11ea43de-4fb2-4772-af96-5079e64f3014)\n",
            " Call ID: 11ea43de-4fb2-4772-af96-5079e64f3014\n",
            "  Args:\n",
            "    a: 5.0\n",
            "    b: 15.0\n",
            "=================================\u001b[1m Tool Message \u001b[0m=================================\n",
            "Name: multiply\n",
            "\n",
            "75\n",
            "==================================\u001b[1m Ai Message \u001b[0m==================================\n",
            "\n",
            "The result of multiplying 5 by 15 is 75.\n"
          ]
        }
      ]
    },
    {
      "cell_type": "code",
      "source": [
        "response_4 = graph.invoke({\"messages\":[HumanMessage(content=\"Divide 20 and 2\")]})\n",
        "for r in response_4[\"messages\"]:\n",
        "  r.pretty_print()"
      ],
      "metadata": {
        "colab": {
          "base_uri": "https://localhost:8080/"
        },
        "id": "QX82-bSOvCsd",
        "outputId": "13de921f-c120-4d9e-ea2e-b8421d919b57"
      },
      "execution_count": null,
      "outputs": [
        {
          "output_type": "stream",
          "name": "stdout",
          "text": [
            "================================\u001b[1m Human Message \u001b[0m=================================\n",
            "\n",
            "Divide 20 and 2\n",
            "==================================\u001b[1m Ai Message \u001b[0m==================================\n",
            "Tool Calls:\n",
            "  divide (723f2d58-b43c-4201-83e1-b3b936ebd17c)\n",
            " Call ID: 723f2d58-b43c-4201-83e1-b3b936ebd17c\n",
            "  Args:\n",
            "    a: 20.0\n",
            "    b: 2.0\n",
            "=================================\u001b[1m Tool Message \u001b[0m=================================\n",
            "Name: divide\n",
            "\n",
            "10.0\n",
            "==================================\u001b[1m Ai Message \u001b[0m==================================\n",
            "\n",
            "The result of dividing 20 by 2 is 10.\n"
          ]
        }
      ]
    },
    {
      "cell_type": "code",
      "source": [
        "response_5 = graph.invoke({\"messages\":[HumanMessage(content=\"Add 10 into 5 and then multiply result by 5\")]})\n",
        "for r in response_5[\"messages\"]:\n",
        "  r.pretty_print()"
      ],
      "metadata": {
        "colab": {
          "base_uri": "https://localhost:8080/"
        },
        "id": "iaImUozUvcHg",
        "outputId": "ee59d20f-465a-4148-962d-cd4aa5563292"
      },
      "execution_count": null,
      "outputs": [
        {
          "output_type": "stream",
          "name": "stdout",
          "text": [
            "================================\u001b[1m Human Message \u001b[0m=================================\n",
            "\n",
            "Add 10 into 5 and then multiply result by 5\n",
            "==================================\u001b[1m Ai Message \u001b[0m==================================\n",
            "Tool Calls:\n",
            "  add (8bf65789-0750-45f0-bf78-1d619ef6cc44)\n",
            " Call ID: 8bf65789-0750-45f0-bf78-1d619ef6cc44\n",
            "  Args:\n",
            "    a: 10.0\n",
            "    b: 5.0\n",
            "=================================\u001b[1m Tool Message \u001b[0m=================================\n",
            "Name: add\n",
            "\n",
            "15\n",
            "==================================\u001b[1m Ai Message \u001b[0m==================================\n",
            "Tool Calls:\n",
            "  multiply (8e4c3a91-dfe7-4a2a-ac79-79185df5699e)\n",
            " Call ID: 8e4c3a91-dfe7-4a2a-ac79-79185df5699e\n",
            "  Args:\n",
            "    a: 15.0\n",
            "    b: 5.0\n",
            "=================================\u001b[1m Tool Message \u001b[0m=================================\n",
            "Name: multiply\n",
            "\n",
            "75\n",
            "==================================\u001b[1m Ai Message \u001b[0m==================================\n",
            "\n",
            "The result of adding 10 and 5 is 15, and then multiplying by 5 is 75.\n"
          ]
        }
      ]
    },
    {
      "cell_type": "code",
      "source": [
        "response_6 = graph.invoke({\"messages\":[HumanMessage(content=\"What is the Weather in New York Today\")]})\n",
        "for r in response_6[\"messages\"]:\n",
        "  r.pretty_print()"
      ],
      "metadata": {
        "colab": {
          "base_uri": "https://localhost:8080/"
        },
        "id": "d6uR10EA4UsJ",
        "outputId": "74c05b5c-2b24-45b8-ee3c-55b67846cf13"
      },
      "execution_count": null,
      "outputs": [
        {
          "output_type": "stream",
          "name": "stdout",
          "text": [
            "================================\u001b[1m Human Message \u001b[0m=================================\n",
            "\n",
            "What is the Weather in New York Today\n",
            "==================================\u001b[1m Ai Message \u001b[0m==================================\n",
            "Tool Calls:\n",
            "  tavily_search (e9beec2e-01aa-4847-8719-783c1ec256b7)\n",
            " Call ID: e9beec2e-01aa-4847-8719-783c1ec256b7\n",
            "  Args:\n",
            "    __arg1: Weather in New York Today\n",
            "=================================\u001b[1m Tool Message \u001b[0m=================================\n",
            "Name: tavily_search\n",
            "\n",
            "[{\"url\": \"https://weather.com/weather/today/l/96f2f84af9a5f5d452eb0574d4e4d8a840c71b05e22264ebdc0056433a642c84\", \"content\": \"Weather Forecast and Conditions for New York City, NY - The Weather Channel | Weather.com Weather Forecasts Today's Forecast for New York City, NY ### Afternoon 65° Chance of Rain0% ### Evening 55° Chance of Rain1% Weather Today in New York City, NY Weather Pattern Change And Snowy Forecast Hourly Forecast ### Now 66° Chance of Rain0% ### 2 pm 66° Chance of Rain0% ### 3 pm 66° Chance of Rain0% ### 4 pm 65° Chance of Rain0% ### 5 pm 62° Chance of Rain0% The Best Cold Weather Shower Routine For Your Skin Cold Weather Vegetables That Taste Even Better In Winter Forecast Location Terms of Use | Privacy Policy We may use or share your data with our data vendors.\"}, {\"url\": \"https://www.accuweather.com/en/us/new-york/10021/weather-forecast/349727\", \"content\": \"TODAY’S WEATHER FORECAST\\nLooking Ahead\\nExpect rainy weather late tonight through tomorrow evening\\nTONIGHT’S WEATHER FORECAST\\nTOMORROW’S WEATHER FORECAST\\nNew York Weather Radar\\nFurther Ahead\\nHourly\\nDaily\\nMonthly\\nAround the Globe\\nHurricane Tracker\\nSevere Weather\\nRadar & Maps\\nNews\\nVideo\\nWinter Center\\nTop Stories\\nWinter Weather\\nWeekend storm to dish wintry weather to parts of Midwest, Northeast\\n3 hours ago\\nAstronomy\\nGeminids to outshine all other astronomy events in December\\n2 days ago\\nWeather News\\nOfficials release simulated images of man found dead in Lake Mead\\n1 day ago\\nAstronomy\\nFirst ever planet-forming disk spotted around star in another galaxy\\n1 day ago\\nWeather Forecasts\\nAtmospheric river to unleash month’s worth of rain in Northwest\\n3 hours ago\\nFeatured Stories\\nWeather News\\nGhostly new figures appear in the waters of the Caribbean\\n1 day ago\\nWeather News\\nResearchers find 'witch bottles' washed up on Texas beaches\\n2 days ago\\nWeather News\\nGiant seamount found is twice the height of world’s tallest building\\n1 day ago\\nWeather News\\n5 Native American inventions that are still used in our modern world\\n3 days ago\\nHealth\\nWalking could lower your risk of type 2 diabetes\\n3 days ago\\nWeather Near New York:\\nWe have updated our Privacy Policy and Cookie Policy. New York, NY\\nNew York\\nNew York\\nAround the Globe\\nHurricane Tracker\\nSevere Weather\\nRadar & Maps\\nNews & Features\\nAstronomy\\nBusiness\\nClimate\\nHealth\\nRecreation\\nSports\\nTravel\\nVideo\\nWinter Center\\nToday\\nCurrent Weather\\n6:30 PM\\nCurrent Air Quality\\nToday\\n12/2\\nUnhealthy\\nHealth effects can be immediately felt by sensitive groups. Based on Current Pollutants\\nMore Details\\nLearn more at\\nUnhealthy\\nHealth effects can be immediately felt by sensitive groups. Based on Current Pollutants\\nCurrent Air Quality\\nOur current air quality index (AQI) provides information on the quality of air that you are breathing and its impact on your health. There are at least six different pollutants that we track that impact the cleanliness of air and your health.\\n\"}]\n",
            "==================================\u001b[1m Ai Message \u001b[0m==================================\n",
            "\n",
            "The weather in New York City today is 65°F in the afternoon with a 0% chance of rain, and 55°F in the evening with a 1% chance of rain. There is a chance of rainy weather late tonight through tomorrow evening. The air quality is currently unhealthy.\n"
          ]
        }
      ]
    },
    {
      "cell_type": "code",
      "source": [
        "response_7 = graph.invoke({\"messages\":[HumanMessage(content=\"What is the Weather in Lahore Today\")]})\n",
        "for r in response_7[\"messages\"]:\n",
        "  r.pretty_print()"
      ],
      "metadata": {
        "colab": {
          "base_uri": "https://localhost:8080/"
        },
        "id": "fQKaZz5N5UjR",
        "outputId": "df17aeda-2ff5-4713-a552-96cacae00b26"
      },
      "execution_count": null,
      "outputs": [
        {
          "output_type": "stream",
          "name": "stdout",
          "text": [
            "================================\u001b[1m Human Message \u001b[0m=================================\n",
            "\n",
            "What is the Weather in Lahore Today\n",
            "==================================\u001b[1m Ai Message \u001b[0m==================================\n",
            "Tool Calls:\n",
            "  tavily_search (303f154e-4fbc-4d6c-a156-9782624eff9e)\n",
            " Call ID: 303f154e-4fbc-4d6c-a156-9782624eff9e\n",
            "  Args:\n",
            "    __arg1: Weather in Lahore Today\n",
            "=================================\u001b[1m Tool Message \u001b[0m=================================\n",
            "Name: tavily_search\n",
            "\n",
            "[{\"url\": \"https://www.weatherapi.com/\", \"content\": \"{'location': {'name': 'Lahore', 'region': 'Punjab', 'country': 'Pakistan', 'lat': 31.5497, 'lon': 74.3436, 'tz_id': 'Asia/Karachi', 'localtime_epoch': 1736763974, 'localtime': '2025-01-13 15:26'}, 'current': {'last_updated_epoch': 1736763300, 'last_updated': '2025-01-13 15:15', 'temp_c': 20.2, 'temp_f': 68.4, 'is_day': 1, 'condition': {'text': 'Mist', 'icon': '//cdn.weatherapi.com/weather/64x64/day/143.png', 'code': 1030}, 'wind_mph': 7.4, 'wind_kph': 11.9, 'wind_degree': 321, 'wind_dir': 'NW', 'pressure_mb': 1019.0, 'pressure_in': 30.09, 'precip_mm': 0.0, 'precip_in': 0.0, 'humidity': 37, 'cloud': 0, 'feelslike_c': 20.2, 'feelslike_f': 68.4, 'windchill_c': 21.8, 'windchill_f': 71.3, 'heatindex_c': 22.0, 'heatindex_f': 71.6, 'dewpoint_c': -4.7, 'dewpoint_f': 23.6, 'vis_km': 4.0, 'vis_miles': 2.0, 'uv': 1.2, 'gust_mph': 8.7, 'gust_kph': 13.9}}\"}, {\"url\": \"https://world-weather.info/forecast/pakistan/lahore/january-2025/\", \"content\": \"Detailed ⚡ Lahore Weather Forecast for January 2025 - day/night 🌡️ temperatures, precipitations - World-Weather.info. Add the current city. Search. Weather; Archive; Widgets °F. World; Pakistan; Weather in Lahore; Weather in Lahore in January 2025. ... 13 +64° +46° 14 +64° +46° 15\"}]\n",
            "==================================\u001b[1m Ai Message \u001b[0m==================================\n",
            "\n",
            "The weather in Lahore, Pakistan is currently Mist with a temperature of 20.2°C. The wind is blowing from the NW at 11.9 kph. The humidity is 37%.\n"
          ]
        }
      ]
    },
    {
      "cell_type": "code",
      "source": [
        "response_8 = graph.invoke({\"messages\":[HumanMessage(content=\"What is the Langchain\")]})\n",
        "for r in response_8[\"messages\"]:\n",
        "  r.pretty_print()"
      ],
      "metadata": {
        "colab": {
          "base_uri": "https://localhost:8080/"
        },
        "id": "9EPt9w0p5Y9M",
        "outputId": "c5642b69-043f-48a0-d747-b1885f9399e7"
      },
      "execution_count": null,
      "outputs": [
        {
          "output_type": "stream",
          "name": "stdout",
          "text": [
            "================================\u001b[1m Human Message \u001b[0m=================================\n",
            "\n",
            "What is the Langchain\n",
            "==================================\u001b[1m Ai Message \u001b[0m==================================\n",
            "Tool Calls:\n",
            "  tavily_search (0fc3b516-3ab0-4fff-9c56-47a6f958adc9)\n",
            " Call ID: 0fc3b516-3ab0-4fff-9c56-47a6f958adc9\n",
            "  Args:\n",
            "    __arg1: What is Langchain\n",
            "=================================\u001b[1m Tool Message \u001b[0m=================================\n",
            "Name: tavily_search\n",
            "\n",
            "[{\"url\": \"https://python.langchain.com/docs/introduction/\", \"content\": \"LangChain is a framework for developing applications powered by large language models (LLMs). LangChain simplifies every stage of the LLM application lifecycle.\"}, {\"url\": \"https://www.langchain.com/\", \"content\": \"LangChain is a composable framework to build with LLMs. LangGraph is the orchestration framework for controllable agentic workflows. Run.\"}]\n",
            "==================================\u001b[1m Ai Message \u001b[0m==================================\n",
            "\n",
            "LangChain is a framework for developing applications powered by large language models (LLMs). It simplifies every stage of the LLM application lifecycle. It is also a composable framework to build with LLMs.\n"
          ]
        }
      ]
    },
    {
      "cell_type": "code",
      "source": [
        "response_9 = graph.invoke({\"messages\":[HumanMessage(content=\"Who won the USA Elections recently\")]})\n",
        "for r in response_9[\"messages\"]:\n",
        "  r.pretty_print()"
      ],
      "metadata": {
        "colab": {
          "base_uri": "https://localhost:8080/"
        },
        "id": "K-jZ6aV_JOXh",
        "outputId": "9cd3621f-258d-4c44-eced-5e942fd1df75"
      },
      "execution_count": null,
      "outputs": [
        {
          "output_type": "stream",
          "name": "stdout",
          "text": [
            "================================\u001b[1m Human Message \u001b[0m=================================\n",
            "\n",
            "Who won the USA Elections recently\n",
            "==================================\u001b[1m Ai Message \u001b[0m==================================\n",
            "Tool Calls:\n",
            "  tavily_search (9696a638-50d0-486c-925b-a120bf962076)\n",
            " Call ID: 9696a638-50d0-486c-925b-a120bf962076\n",
            "  Args:\n",
            "    __arg1: who won USA elections recently\n",
            "=================================\u001b[1m Tool Message \u001b[0m=================================\n",
            "Name: tavily_search\n",
            "\n",
            "[{\"url\": \"https://www.usatoday.com/story/news/politics/elections/2024/11/05/election-2024-live-updates-results/75686839007/\", \"content\": \"Donald Trump has won the coveted state of Pennsylvania - flipping a state seen as a must win in the 2024 election cycle. Trump is awarded 19 electoral votes. Trump eked out a win in the state in\"}, {\"url\": \"https://www.nbcnews.com/politics/2024-elections/president-results\", \"content\": \"Democrats won Nevada in the past two presidential elections — but polling and voting trends in the state have made it an appealing target for Donald Trump in a bid to flip states in his direction. North Carolina hasn’t voted for a Democrat for president since 2008, but Kamala Harris’ campaign has targeted it as a state she can win, buoyed by its large Black population. Resident of the states listed in the 'Your Rights' section of NBCUniversal’s Privacy Policy Only: To opt out of selling or sharing/processing for targeted advertising of information such as cookies and device identifiers processed for targeted ads (as defined by law) and related purposes for this site/app on this browser/device, switch this toggle to off (grey color) by moving it left and clicking “Confirm My Choice” below.\"}]\n",
            "==================================\u001b[1m Ai Message \u001b[0m==================================\n",
            "\n",
            "Based on the search results, it appears that Donald Trump won the state of Pennsylvania in the recent election. However, it's important to note that the 2024 election is still ongoing, and other states are still in play.\n"
          ]
        }
      ]
    },
    {
      "cell_type": "code",
      "source": [
        "response_10 = graph.invoke({\"messages\":[HumanMessage(content=\"What is the Difference between Langchain And LangGraph\")]})\n",
        "for r in response_10[\"messages\"]:\n",
        "  r.pretty_print()"
      ],
      "metadata": {
        "colab": {
          "base_uri": "https://localhost:8080/"
        },
        "id": "GPro0pB3JWMN",
        "outputId": "2cf21458-f200-404c-caae-62b09deb59d0"
      },
      "execution_count": null,
      "outputs": [
        {
          "output_type": "stream",
          "name": "stdout",
          "text": [
            "================================\u001b[1m Human Message \u001b[0m=================================\n",
            "\n",
            "What is the Difference between Langchain And LangGraph\n",
            "==================================\u001b[1m Ai Message \u001b[0m==================================\n",
            "Tool Calls:\n",
            "  tavily_search (3ac332ee-ff90-4794-9237-cfe86b5c3eae)\n",
            " Call ID: 3ac332ee-ff90-4794-9237-cfe86b5c3eae\n",
            "  Args:\n",
            "    __arg1: Difference between Langchain and LangGraph\n",
            "=================================\u001b[1m Tool Message \u001b[0m=================================\n",
            "Name: tavily_search\n",
            "\n",
            "[{\"url\": \"https://blog.blockmagnates.com/langchain-vs-langgraph-a-comprehensive-comparison-of-language-model-frameworks-ec8a88785c6d\", \"content\": \"This blog explores the similarities and differences between LangChain and LangGraph, providing insights into when to use one over the other. LangGraph emphasizes declarative workflows, where tasks and logic are represented in a visual or graph-based structure, making it particularly attractive for users interested in visualizing task dependencies and flow control in LLM-based applications. Both LangChain and LangGraph serve as orchestrators for LLM-based applications, allowing developers to build pipelines that involve multiple models and tasks. Key differences of Langchain vs LangGraph upload_to_gcs(bucket_name, 'langchain_langgraph_comparison.json', {'similarities': similarities, 'differences': differences}) LangChain’s code-driven approach is ideal for developers who need maximum control and customization over workflows and have a preference for building complex applications with detailed integrations.\"}, {\"url\": \"https://blog.adyog.com/2024/12/24/langchain-vs-langgraph-choosing-the-right-framework-for-llm-powered-applications/\", \"content\": \"LangGraph is a specialized library within the Langchain ecosystem designed for building stateful, multi-agent systems. Unlike Langchain, LangGraph's strength lies in its ability to handle complex, non-linear workflows. Core Features: Graph-Based Architecture: Tasks are represented as nodes with transitions between them, called edges.\"}]\n",
            "==================================\u001b[1m Ai Message \u001b[0m==================================\n",
            "\n",
            "LangChain and LangGraph are both frameworks for building applications using large language models, but they have different strengths:\n",
            "\n",
            "**LangChain:**\n",
            "*   It is a more general-purpose framework that provides a wide variety of tools and integrations for building different kinds of LLM-powered applications.\n",
            "*   It is code-driven, offering maximum control and customization over workflows.\n",
            "*   It is suitable for developers who need detailed integrations and prefer building complex applications.\n",
            "\n",
            "**LangGraph:**\n",
            "*   It is a specialized library within the LangChain ecosystem designed for building stateful, multi-agent systems.\n",
            "*   It emphasizes declarative workflows, using a graph-based structure to represent tasks and their dependencies.\n",
            "*   It is particularly useful for visualizing task dependencies and flow control in LLM-based applications.\n",
            "*   It is designed to handle complex, non-linear workflows.\n",
            "\n",
            "In short, LangChain is a more general-purpose tool, while LangGraph is specifically designed for complex multi-agent workflows.\n"
          ]
        }
      ]
    },
    {
      "cell_type": "code",
      "source": [
        "response_11 = graph.invoke({\"messages\":[HumanMessage(content=\"What won elections in Japan recently and what is 10 multiply by 5\")]})\n",
        "for r in response_11[\"messages\"]:\n",
        "  r.pretty_print()"
      ],
      "metadata": {
        "colab": {
          "base_uri": "https://localhost:8080/"
        },
        "id": "H-fViyuNNT_3",
        "outputId": "7e1a339e-5d9d-47b6-91c4-d3d7711e2f01"
      },
      "execution_count": null,
      "outputs": [
        {
          "output_type": "stream",
          "name": "stdout",
          "text": [
            "================================\u001b[1m Human Message \u001b[0m=================================\n",
            "\n",
            "What won elections in Japan recently and what is 10 multiply by 5\n",
            "==================================\u001b[1m Ai Message \u001b[0m==================================\n",
            "Tool Calls:\n",
            "  tavily_search (ca979c43-8a58-424f-b811-132e395958b2)\n",
            " Call ID: ca979c43-8a58-424f-b811-132e395958b2\n",
            "  Args:\n",
            "    __arg1: recent elections in Japan\n",
            "  multiply (c0f18349-724c-47e2-b7ad-92ef86933e04)\n",
            " Call ID: c0f18349-724c-47e2-b7ad-92ef86933e04\n",
            "  Args:\n",
            "    a: 10.0\n",
            "    b: 5.0\n",
            "=================================\u001b[1m Tool Message \u001b[0m=================================\n",
            "Name: tavily_search\n",
            "\n",
            "[{\"url\": \"https://www.japantimes.co.jp/news/2024/10/27/japan/politics/live-update-japan-lower-house-election-2024/\", \"content\": \"Recent polls have indicated Japan's ruling Liberal Democratic Party-Komeito bloc might lose its majority in the lower chamber for the first time in 15 years. ... Japan's Lower House election 2024.\"}, {\"url\": \"https://en.wikipedia.org/wiki/2024_Japanese_general_election\", \"content\": \"General elections were held in Japan on 27 October 2024 due to the early dissolution of the House of Representatives, ... which requires either ≥5 Diet members or ≥1 Diet member and ≥2% of the nationwide vote in one tier of a recent national election, are allowed to stand in a constituency and be present on the party list. If they lose\"}]\n",
            "=================================\u001b[1m Tool Message \u001b[0m=================================\n",
            "Name: multiply\n",
            "\n",
            "50\n",
            "==================================\u001b[1m Ai Message \u001b[0m==================================\n",
            "\n",
            "The recent elections in Japan were held on October 27, 2024, due to the early dissolution of the House of Representatives. The ruling Liberal Democratic Party-Komeito bloc might lose its majority in the lower chamber for the first time in 15 years. Also, 10 multiplied by 5 is 50.\n"
          ]
        }
      ]
    },
    {
      "cell_type": "code",
      "source": [
        "response_12 = graph.invoke({\"messages\":[HumanMessage(content=\"What is the Difference between Compound AI Stack And Agentic Ai Stack and what is 100 divided by 10\")]})\n",
        "for r in response_12[\"messages\"]:\n",
        "  r.pretty_print()"
      ],
      "metadata": {
        "colab": {
          "base_uri": "https://localhost:8080/"
        },
        "id": "XPrD-HPcOC29",
        "outputId": "69894605-af11-4c17-c08e-5b27171526f3"
      },
      "execution_count": null,
      "outputs": [
        {
          "output_type": "stream",
          "name": "stdout",
          "text": [
            "================================\u001b[1m Human Message \u001b[0m=================================\n",
            "\n",
            "What is the Difference between Compound AI Stack And Agentic Ai Stack and what is 100 divided by 10\n",
            "==================================\u001b[1m Ai Message \u001b[0m==================================\n",
            "Tool Calls:\n",
            "  divide (2c3b5a11-517d-4d6b-bac0-7fa370328b11)\n",
            " Call ID: 2c3b5a11-517d-4d6b-bac0-7fa370328b11\n",
            "  Args:\n",
            "    a: 100.0\n",
            "    b: 10.0\n",
            "  tavily_search (d011be2e-84c1-4b31-a57f-846bfe45d8e3)\n",
            " Call ID: d011be2e-84c1-4b31-a57f-846bfe45d8e3\n",
            "  Args:\n",
            "    __arg1: Difference between Compound AI Stack and Agentic AI Stack\n",
            "=================================\u001b[1m Tool Message \u001b[0m=================================\n",
            "Name: divide\n",
            "\n",
            "10.0\n",
            "=================================\u001b[1m Tool Message \u001b[0m=================================\n",
            "Name: tavily_search\n",
            "\n",
            "[{\"url\": \"https://docs.databricks.com/en/generative-ai/agent-framework/ai-agents.html\", \"content\": \"Compound AI systems are systems that tackle AI tasks by combining multiple interacting components. In contrast, an AI model is simply a statistical model.\"}, {\"url\": \"https://www.birchwoodu.org/what-is-the-difference-between-generative-ai-and-agentic-ai/\", \"content\": \"Unlike generative AI, which primarily focuses on creation, agentic AI emphasizes action and interaction within a specified context.\"}]\n",
            "==================================\u001b[1m Ai Message \u001b[0m==================================\n",
            "\n",
            "The result of 100 divided by 10 is 10.\n",
            "\n",
            "Based on the search results, here's a breakdown of the difference between Compound AI and Agentic AI:\n",
            "\n",
            "**Compound AI:**\n",
            "\n",
            "*   These systems combine multiple interacting components to tackle AI tasks.\n",
            "*   They are not just single statistical models but rather a collection of models working together.\n",
            "\n",
            "**Agentic AI:**\n",
            "\n",
            "*   Emphasizes action and interaction within a specific context.\n",
            "*   Focuses on taking actions and interacting with the environment, rather than just generating content like generative AI.\n",
            "\n",
            "In simpler terms, Compound AI is about combining different AI tools, while Agentic AI is about creating AI that can act and interact like an agent.\n"
          ]
        }
      ]
    }
  ]
}